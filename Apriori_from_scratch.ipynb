{
  "cells": [
    {
      "cell_type": "code",
      "execution_count": null,
      "metadata": {
        "id": "3YIL6rSoDHX3"
      },
      "outputs": [],
      "source": [
        "import warnings\n",
        "warnings.filterwarnings(\"ignore\")"
      ]
    },
    {
      "cell_type": "markdown",
      "metadata": {
        "id": "eKjwi9_BDHYE"
      },
      "source": [
        "#### libraries"
      ]
    },
    {
      "cell_type": "code",
      "execution_count": 104,
      "metadata": {
        "id": "BiYvszwSDHYH"
      },
      "outputs": [],
      "source": [
        "import pandas as pd\n",
        "import numpy as np\n",
        "import copy"
      ]
    },
    {
      "cell_type": "markdown",
      "metadata": {
        "id": "v9VAt2e-DHYJ"
      },
      "source": [
        "#### inputs"
      ]
    },
    {
      "cell_type": "code",
      "execution_count": 130,
      "metadata": {
        "colab": {
          "base_uri": "https://localhost:8080/"
        },
        "id": "Q18krRsJDHYK",
        "outputId": "71a86f58-4da2-42b0-ba4a-9e33742795aa"
      },
      "outputs": [
        {
          "name": "stdout",
          "output_type": "stream",
          "text": [
            "Enter minimum support:  0.01\n",
            "Enter minimum confidence:  0.2\n"
          ]
        }
      ],
      "source": [
        "min_sup=float(input(\"Enter minimum support:  \"))\n",
        "min_conf=float(input(\"Enter minimum confidence:  \"))"
      ]
    },
    {
      "cell_type": "markdown",
      "metadata": {
        "id": "gCJDmFYBDHYM"
      },
      "source": [
        "#### functions"
      ]
    },
    {
      "cell_type": "code",
      "execution_count": 119,
      "metadata": {
        "id": "D4MC7oSVDHYN"
      },
      "outputs": [],
      "source": [
        "def load_dataset():\n",
        "    data_frame = pd.DataFrame()\n",
        "    data_frame=pd.read_csv('market_data.csv', header=None )\n",
        "    number_of_all_transactions=len(data_frame)\n",
        "    return data_frame,number_of_all_transactions"
      ]
    },
    {
      "cell_type": "code",
      "execution_count": 120,
      "metadata": {
        "id": "i2CvKmX_DHYO"
      },
      "outputs": [],
      "source": [
        "def delete_zero_occurance_items(data_frame):\n",
        "    data_frame = data_frame[data_frame.occurance != 0]\n",
        "    data_frame.index = range(len(data_frame))\n",
        "    return data_frame"
      ]
    },
    {
      "cell_type": "code",
      "execution_count": 121,
      "metadata": {
        "id": "kT1pwPuRDHYQ"
      },
      "outputs": [],
      "source": [
        "def filter_by_support(dff):\n",
        "    df_filtered = dff[dff[\"support\"]>= float(min_sup)]\n",
        "    df_filtered.index = range(len(df_filtered))\n",
        "    return df_filtered"
      ]
    },
    {
      "cell_type": "code",
      "execution_count": 109,
      "metadata": {
        "id": "Gg4QuLbSDHYR"
      },
      "outputs": [],
      "source": [
        "def filter_by_confidence(rule):\n",
        "    rule = rule[rule[\"confidence\"] >= float(min_conf)]\n",
        "    rule.index = range(len(rule))\n",
        "    return rule"
      ]
    },
    {
      "cell_type": "code",
      "execution_count": 122,
      "metadata": {
        "id": "cHPrzVzoDHYT"
      },
      "outputs": [],
      "source": [
        "def count_occurance_of_items(data_frame):\n",
        "    number_of_all_transactions=len(data_frame)\n",
        "    all_items = pd.unique(data_frame.values.ravel())\n",
        "    df = pd.DataFrame()\n",
        "    df[\"item\"]=\" \"\n",
        "    df[\"occurance\"]=\" \"\n",
        "    df[\"support\"] = \" \"\n",
        "    df[\"lenght\"]=\" \"   \n",
        "    index=0\n",
        "    for item in all_items:\n",
        "        occurenece_in_each_row=data_frame[data_frame == item].count()\n",
        "        df.at[index,\"occurance\"]=occurenece_in_each_row.sum()\n",
        "        df.at[index,\"item\"]=[item]\n",
        "        df.at[index,\"support\"]=df.at[index,\"occurance\"]/number_of_all_transactions\n",
        "        df.at[index,\"lenght\"]=len([item])\n",
        "        index=index+1\n",
        "    df=delete_zero_occurance_items(df)\n",
        "    #print(\"⬇ table of itemset occurance ⬇ \") \n",
        "    #print(df)\n",
        "    return df,list(df[\"item\"])"
      ]
    },
    {
      "cell_type": "code",
      "execution_count": 123,
      "metadata": {
        "id": "GH-H_MmJDHYX"
      },
      "outputs": [],
      "source": [
        "def create_new_itemset(items,df):\n",
        "    data_frame = pd.DataFrame()\n",
        "    data_frame[\"item\"]=\"\"\n",
        "    added=[]\n",
        "    frequent_items=list(df[\"item\"])\n",
        "    different_items=copy.deepcopy(items)\n",
        "    index=0\n",
        "    new_items=[]\n",
        "    i=0\n",
        "    while (i<len(different_items)):\n",
        "        j=0\n",
        "        while (j<len(frequent_items)-1): \n",
        "            if not(different_items[i][0] in frequent_items[j]):\n",
        "                new_frequent_items=(frequent_items[j]+different_items[i])\n",
        "                if not(set(new_frequent_items) in added):\n",
        "                    data_frame.at[index,\"item\"]=new_frequent_items\n",
        "                    added.append(set(new_frequent_items))\n",
        "                    index=index+1\n",
        "            j=j+1    \n",
        "        different_items.remove(different_items[i])\n",
        "        i=i+1\n",
        "    #print(\"⬇ table of itemset occurance ⬇\" )    \n",
        "    #display(data_frame)\n",
        "    return data_frame"
      ]
    },
    {
      "cell_type": "code",
      "execution_count": 124,
      "metadata": {
        "id": "HYXmBQtVDHYY"
      },
      "outputs": [],
      "source": [
        "def calculate_occurance_and_support(ddf,data_frame):\n",
        "    number_of_all_transactions=len(data_frame)\n",
        "    index=0\n",
        "    ddf[\"occurance\"] = \" \"\n",
        "    ddf[\"support\"] = \" \"\n",
        "    ddf[\"lenght\"]=\" \"   \n",
        "    for item in ddf[\"item\"]:\n",
        "        rows=[]\n",
        "        for items in item:\n",
        "            row, columns = np.where(data_frame == items) \n",
        "            rows.append(row)  \n",
        "        intersection=len(set.intersection(*map(set,rows)))\n",
        "        ddf.at[index,\"occurance\"]=intersection\n",
        "        ddf.at[index,\"support\"]=intersection/number_of_all_transactions\n",
        "        ddf.at[index,\"lenght\"]=len(item)\n",
        "        index=index+1\n",
        "    df_filtered=filter_by_support(ddf)\n",
        "    #display(df_filtered)\n",
        "    return df_filtered\n"
      ]
    },
    {
      "cell_type": "code",
      "execution_count": 125,
      "metadata": {
        "id": "LnY96p0WDHYa"
      },
      "outputs": [],
      "source": [
        "def create_rules_with_one_if_condition(new_occurance_table,occurance_table,number_of_all_transaction):\n",
        "    column_names = [\"item\", \"support\", \"confidence\",\"if condition\",\"then condition\"]\n",
        "    rule = pd.DataFrame(columns = column_names)\n",
        "    index=0\n",
        "    i=0\n",
        "    for items in new_occurance_table[\"item\"]:\n",
        "        for item in items:\n",
        "            rule.at[index,\"item\"]=items\n",
        "            rule.at[index,\"support\"]=new_occurance_table.at[i,\"support\"]\n",
        "            then_list=copy.deepcopy(items)\n",
        "            rule.at[index,\"if condition\"]=[item]\n",
        "            for x in range(len(occurance_table[\"item\"])):\n",
        "                if occurance_table.at[x,\"item\"]==[item]:\n",
        "                    rule.at[index,\"confidence\"]=number_of_all_transaction*(rule.at[index,\"support\"])/(occurance_table.at[x,\"occurance\"])  \n",
        "            then_list.remove(item)\n",
        "            rule.at[index,\"then condition\"]=then_list\n",
        "            index=index+1\n",
        "        i=i+1\n",
        "    return rule,index"
      ]
    },
    {
      "cell_type": "code",
      "execution_count": 126,
      "metadata": {
        "id": "FnpnR_NzDHYb"
      },
      "outputs": [],
      "source": [
        "def remove_from_then_condition_add_to_if_condition(rule,index,new_occurance_table,occurance_table,number_of_all_transaction):\n",
        "    previous_index=0\n",
        "    for items in rule[\"then condition\"]:\n",
        "        for item in items:\n",
        "            rule.at[index,\"item\"]=rule.at[previous_index,\"item\"]\n",
        "            rule.at[index,\"support\"]=rule.at[previous_index,\"support\"]\n",
        "            new_if=copy.deepcopy(rule.at[previous_index,\"if condition\"])\n",
        "            if len(new_if)!=len(rule.at[previous_index,\"item\"])-1:\n",
        "                then_list=copy.deepcopy(items)\n",
        "                new_if.append(item)\n",
        "                rule.at[index,\"if condition\"]=new_if\n",
        "                then_list.remove(item)\n",
        "                rule.at[index,\"then condition\"]=then_list\n",
        "                for x in range(len(occurance_table[\"item\"])):\n",
        "                    if occurance_table.at[x,\"item\"]==[item]:\n",
        "                        rule.at[index,\"confidence\"]=number_of_all_transaction*(rule.at[index,\"support\"])/(occurance_table.at[x,\"occurance\"])  \n",
        "                previous_index=previous_index+1\n",
        "                index=index+1\n",
        "    return rule"
      ]
    },
    {
      "cell_type": "code",
      "execution_count": 127,
      "metadata": {
        "id": "0dDBMSjADHYc"
      },
      "outputs": [],
      "source": [
        "def create_rule(new_occurance_table,occurance_table,number_of_all_transaction):\n",
        "    rule,index=create_rules_with_one_if_condition(new_occurance_table,occurance_table,number_of_all_transaction)\n",
        "    rule=remove_from_then_condition_add_to_if_condition(rule,index,new_occurance_table,occurance_table,number_of_all_transaction)\n",
        "    rule = rule.dropna()\n",
        "    df_filtered=filter_by_support(rule)\n",
        "    df_filtered=filter_by_confidence(df_filtered)\n",
        "    #print(\"⬇ table of rules ⬇ \")\n",
        "    return df_filtered"
      ]
    },
    {
      "cell_type": "code",
      "execution_count": 128,
      "metadata": {
        "id": "got1u5wGDHYd"
      },
      "outputs": [],
      "source": [
        "all_subsets = pd.DataFrame()\n",
        "all_rules = pd.DataFrame()"
      ]
    },
    {
      "cell_type": "code",
      "source": [
        "data_frame,number_of_all_transaction=load_dataset()\n",
        "occurance_table,different_items=count_occurance_of_items(data_frame)\n",
        "repeat=len(different_items)\n",
        "all_subsets = pd.DataFrame()\n",
        "all_rules = pd.DataFrame()\n",
        "for _ in range(repeat):\n",
        "    all_subsets = all_subsets.append(occurance_table, ignore_index=True)\n",
        "    df=create_new_itemset(different_items,occurance_table)\n",
        "    occurance_table=calculate_occurance_and_support(df,data_frame)\n",
        "    if occurance_table.empty:\n",
        "        break\n",
        "    rules=create_rule(occurance_table,all_subsets,number_of_all_transaction)\n",
        "    #print(rules)\n",
        "    all_rules=all_rules.append(rules ,ignore_index=True)\n",
        "print(all_rules)"
      ],
      "metadata": {
        "colab": {
          "base_uri": "https://localhost:8080/"
        },
        "id": "XrdBOMyDD5hs",
        "outputId": "3c6e6c0d-3001-4475-dd49-e9cef2698317"
      },
      "execution_count": 134,
      "outputs": [
        {
          "output_type": "stream",
          "name": "stdout",
          "text": [
            "                                     item   support confidence  \\\n",
            "0                 [mineral water, shrimp]  0.023597   0.330224   \n",
            "1                          [milk, shrimp]  0.017598   0.246269   \n",
            "2             [frozen vegetables, shrimp]  0.016664   0.233209   \n",
            "3                     [spaghetti, shrimp]  0.021197   0.296642   \n",
            "4                     [chocolate, shrimp]  0.017998   0.251866   \n",
            "..                                    ...       ...        ...   \n",
            "85             [chocolate, grated cheese]  0.010932   0.208651   \n",
            "86           [ground beef, grated cheese]  0.011332   0.216285   \n",
            "87               [french fries, escalope]  0.016398   0.206723   \n",
            "88                  [chocolate, escalope]  0.017598   0.221849   \n",
            "89  [chocolate, spaghetti, mineral water]  0.015865   0.240891   \n",
            "\n",
            "                  if condition       then condition  \n",
            "0                     [shrimp]      [mineral water]  \n",
            "1                     [shrimp]               [milk]  \n",
            "2                     [shrimp]  [frozen vegetables]  \n",
            "3                     [shrimp]          [spaghetti]  \n",
            "4                     [shrimp]          [chocolate]  \n",
            "..                         ...                  ...  \n",
            "85             [grated cheese]          [chocolate]  \n",
            "86             [grated cheese]        [ground beef]  \n",
            "87                  [escalope]       [french fries]  \n",
            "88                  [escalope]          [chocolate]  \n",
            "89  [mineral water, olive oil]      [mineral water]  \n",
            "\n",
            "[90 rows x 5 columns]\n"
          ]
        }
      ]
    }
  ],
  "metadata": {
    "kernelspec": {
      "display_name": "Python 3",
      "language": "python",
      "name": "python3"
    },
    "language_info": {
      "codemirror_mode": {
        "name": "ipython",
        "version": 3
      },
      "file_extension": ".py",
      "mimetype": "text/x-python",
      "name": "python",
      "nbconvert_exporter": "python",
      "pygments_lexer": "ipython3",
      "version": "3.7.6"
    },
    "colab": {
      "name": "2 (1).ipynb",
      "provenance": [],
      "collapsed_sections": []
    }
  },
  "nbformat": 4,
  "nbformat_minor": 0
}